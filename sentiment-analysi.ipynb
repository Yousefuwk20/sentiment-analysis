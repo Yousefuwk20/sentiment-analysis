{
 "cells": [
  {
   "cell_type": "code",
   "execution_count": null,
   "id": "833a8631",
   "metadata": {},
   "outputs": [],
   "source": [
    "import sagemaker\n",
    "import boto3\n",
    "import pandas as pd\n",
    "from sagemaker import get_execution_role\n",
    "\n",
    "role = get_execution_role()\n",
    "sagemaker_session = sagemaker.Session()\n",
    "bucket = 'sentiment-analysis-storage'\n"
   ]
  },
  {
   "cell_type": "code",
   "execution_count": null,
   "id": "f838bce6",
   "metadata": {},
   "outputs": [],
   "source": [
    "s3 = boto3.client('s3')\n",
    "s3.download_file(bucket, 'Sentiment140.csv', 'Sentiment140.csv')\n",
    "\n",
    "# Load data into a DataFrame\n",
    "data = pd.read_csv('Sentiment140.csv', encoding='ISO-8859-1', names=[\"target\", \"id\", \"date\", \"flag\", \"user\", \"text\"])\n"
   ]
  },
  {
   "cell_type": "code",
   "execution_count": null,
   "id": "fb3e653c",
   "metadata": {},
   "outputs": [],
   "source": [
    "import matplotlib.pyplot as plt\n",
    "import seaborn as sns\n",
    "sns.set(style=\"whitegrid\")\n"
   ]
  },
  {
   "cell_type": "code",
   "execution_count": null,
   "id": "79816863",
   "metadata": {},
   "outputs": [],
   "source": [
    "plt.figure(figsize=(6, 4))\n",
    "sns.countplot(x='target', data=data, palette='viridis')\n",
    "plt.title(\"Sentiment Distribution in Sentiment140 Dataset\")\n",
    "plt.xlabel(\"Sentiment (0: Sad, 4: Happy)\")\n",
    "plt.ylabel(\"Count\")\n",
    "plt.show()\n"
   ]
  },
  {
   "cell_type": "code",
   "execution_count": null,
   "id": "949ae48e",
   "metadata": {},
   "outputs": [],
   "source": [
    "# Calculate text length\n",
    "data['text_length'] = data['text'].apply(len)\n",
    "\n",
    "plt.figure(figsize=(8, 5))\n",
    "sns.histplot(data['text_length'], kde=True, color=\"blue\")\n",
    "plt.title(\"Distribution of Tweet Lengths\")\n",
    "plt.xlabel(\"Tweet Length (characters)\")\n",
    "plt.ylabel(\"Frequency\")\n",
    "plt.show()\n"
   ]
  },
  {
   "cell_type": "code",
   "execution_count": null,
   "id": "4aab76dc",
   "metadata": {},
   "outputs": [],
   "source": [
    "from wordcloud import WordCloud\n",
    "\n",
    "# Separate positive and negative tweets\n",
    "positive_text = ' '.join(data[data['target'] == 4]['text'])\n",
    "negative_text = ' '.join(data[data['target'] == 0]['text'])\n",
    "\n",
    "# Generate word clouds\n",
    "plt.figure(figsize=(12, 5))\n",
    "\n",
    "plt.subplot(1, 2, 1)\n",
    "wordcloud = WordCloud(width=400, height=300, max_font_size=80, max_words=100, background_color=\"white\").generate(positive_text)\n",
    "plt.imshow(wordcloud, interpolation='bilinear')\n",
    "plt.title(\"Positive Sentiment Word Cloud\")\n",
    "plt.axis(\"off\")\n",
    "\n",
    "plt.subplot(1, 2, 2)\n",
    "wordcloud = WordCloud(width=400, height=300, max_font_size=80, max_words=100, background_color=\"white\").generate(negative_text)\n",
    "plt.imshow(wordcloud, interpolation='bilinear')\n",
    "plt.title(\"Negative Sentiment Word Cloud\")\n",
    "plt.axis(\"off\")\n",
    "\n",
    "plt.show()\n"
   ]
  },
  {
   "cell_type": "code",
   "execution_count": null,
   "id": "e0fc75c9",
   "metadata": {},
   "outputs": [],
   "source": [
    "import re\n",
    "\n",
    "def preprocess_text(text):\n",
    "    # Convert to lowercase\n",
    "    text = text.lower()\n",
    "    # Remove URLs\n",
    "    text = re.sub(r'http\\S+|www\\S+|https\\S+', '', text, flags=re.MULTILINE)\n",
    "    # Remove user mentions and hashtags\n",
    "    text = re.sub(r'\\@\\w+|\\#','', text)\n",
    "    # Remove special characters, numbers, punctuations\n",
    "    text = re.sub(r'\\W', ' ', text)\n",
    "    return text.strip()\n",
    "\n",
    "# Apply preprocessing\n",
    "data['processed_text'] = data['text'].apply(preprocess_text)\n",
    "\n",
    "# Map labels to BlazingText format\n",
    "data['label'] = data['target'].apply(lambda x: '__label__0' if x == 0 else '__label__4')\n",
    "\n",
    "# Save preprocessed data\n",
    "data[['label', 'processed_text']].to_csv('processed_twitter140.txt', sep=' ', index=False, header=False)\n",
    "s3.upload_file('processed_twitter140.txt', bucket, 'processed_twitter140.txt')\n"
   ]
  },
  {
   "cell_type": "code",
   "execution_count": null,
   "id": "8aaee5f9",
   "metadata": {},
   "outputs": [],
   "source": [
    "blazingtext_image = sagemaker.image_uris.retrieve(\n",
    "    region=boto3.Session().region_name, \n",
    "    framework='blazingtext', \n",
    "    version='latest'\n",
    ")\n",
    "\n",
    "blazingtext = sagemaker.estimator.Estimator(\n",
    "    blazingtext_image,\n",
    "    role,\n",
    "    instance_count=1,\n",
    "    instance_type='ml.m5.large',\n",
    "    output_path=f's3://{bucket}/output',\n",
    "    sagemaker_session=sagemaker_session\n",
    ")\n",
    "\n",
    "# Set hyperparameters\n",
    "blazingtext.set_hyperparameters(\n",
    "    mode='supervised',\n",
    "    epochs=10,\n",
    "    min_count=2,\n",
    "    word_ngrams=2\n",
    ")\n",
    "\n",
    "# Start training\n",
    "train_data = f's3://{bucket}/processed_twitter140.txt'\n",
    "blazingtext.fit({'train': train_data})\n"
   ]
  },
  {
   "cell_type": "code",
   "execution_count": null,
   "id": "f8a78597",
   "metadata": {},
   "outputs": [],
   "source": [
    "predictor = blazingtext.deploy(initial_instance_count=1, instance_type='ml.t2.medium')\n"
   ]
  },
  {
   "cell_type": "code",
   "execution_count": null,
   "id": "cf992d29",
   "metadata": {},
   "outputs": [],
   "source": [
    "def predict_sentiment(text):\n",
    "    preprocessed_text = preprocess_text(text)\n",
    "    response = predictor.predict(preprocessed_text)\n",
    "    return response\n",
    "\n",
    "# Example\n",
    "print(predict_sentiment(\"I love using SageMaker!\"))\n"
   ]
  },
  {
   "cell_type": "code",
   "execution_count": null,
   "id": "53954fc0",
   "metadata": {},
   "outputs": [],
   "source": [
    "predictor.delete_endpoint()\n"
   ]
  }
 ],
 "metadata": {
  "kernelspec": {
   "display_name": "Python 3 (ipykernel)",
   "language": "python",
   "name": "python3"
  },
  "language_info": {
   "codemirror_mode": {
    "name": "ipython",
    "version": 3
   },
   "file_extension": ".py",
   "mimetype": "text/x-python",
   "name": "python",
   "nbconvert_exporter": "python",
   "pygments_lexer": "ipython3",
   "version": "3.11.5"
  }
 },
 "nbformat": 4,
 "nbformat_minor": 5
}
